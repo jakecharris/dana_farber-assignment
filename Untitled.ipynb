{
 "cells": [
  {
   "cell_type": "code",
   "execution_count": 71,
   "id": "3cd53abc-590e-4b49-b920-25c35239e72d",
   "metadata": {},
   "outputs": [],
   "source": [
    "def solution(x, y):\n",
    "    # Your code here\n",
    "    m, f = int(x), int(y)\n",
    "    gens = 0\n",
    "    while True:\n",
    "        if m==1 and f==1:\n",
    "            return str(gens)\n",
    "        elif m < 1 or f < 1 or m==f:\n",
    "            return \"impossible\"\n",
    "        else:\n",
    "            if m > f:\n",
    "                m -= f\n",
    "                gens += 1\n",
    "            elif f > m:\n",
    "                f -= m\n",
    "                gens += 1\n",
    "    # decision tree -> 2**n options per n iteration\n",
    "    # 0. 1,1\n",
    "    # 1. (2,1), (1,2) \n",
    "    # 2. (3,1), (2,3), (3,2), (1,3)\n",
    "    # 3. (4,1), (3,4), (5,3), (2,5), (5,2), (3,5), (4,3), (1,4)\n",
    "    # check for (m,f) combo in each gen\n",
    "    "
   ]
  },
  {
   "cell_type": "code",
   "execution_count": 73,
   "id": "6d14c171-6015-4601-bf46-dedfc6c18bfb",
   "metadata": {},
   "outputs": [
    {
     "data": {
      "text/plain": [
       "'4'"
      ]
     },
     "execution_count": 73,
     "metadata": {},
     "output_type": "execute_result"
    }
   ],
   "source": [
    "solution('2', '1')\n",
    "solution('4', '7')"
   ]
  },
  {
   "cell_type": "code",
   "execution_count": null,
   "id": "29c2b7bd-b07a-40a4-9a7c-9aef190927b7",
   "metadata": {},
   "outputs": [],
   "source": []
  }
 ],
 "metadata": {
  "kernelspec": {
   "display_name": "Python 3 (ipykernel)",
   "language": "python",
   "name": "python3"
  },
  "language_info": {
   "codemirror_mode": {
    "name": "ipython",
    "version": 3
   },
   "file_extension": ".py",
   "mimetype": "text/x-python",
   "name": "python",
   "nbconvert_exporter": "python",
   "pygments_lexer": "ipython3",
   "version": "3.8.5"
  }
 },
 "nbformat": 4,
 "nbformat_minor": 5
}
