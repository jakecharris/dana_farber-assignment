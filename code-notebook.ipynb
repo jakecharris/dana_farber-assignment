{
 "cells": [
  {
   "cell_type": "code",
   "execution_count": 1,
   "metadata": {},
   "outputs": [],
   "source": [
    "# Packages\n",
    "import os\n",
    "import sys\n",
    "import math\n",
    "import re\n",
    "import scipy\n",
    "import pandas as pd\n",
    "import numpy as np\n",
    "import matplotlib.pyplot as plt"
   ]
  },
  {
   "cell_type": "code",
   "execution_count": 5,
   "metadata": {},
   "outputs": [],
   "source": [
    "df_path = '/Users/jakeharris/Documents/GitHub/df-assignment/vanallen-assessment/mafs/Patient-0.somatic.snvs.maf'\n",
    "df = pd.read_csv(df_path, sep='\\t')"
   ]
  },
  {
   "cell_type": "code",
   "execution_count": 9,
   "metadata": {},
   "outputs": [
    {
     "name": "stdout",
     "output_type": "stream",
     "text": [
      "  Hugo_Symbol Chromosome  Start_position  End_position Variant_Classification  \\\n",
      "0        AMOT          X       112035152     112035152      Missense_Mutation   \n",
      "1      SEMA6D         15        48062786      48062786      Missense_Mutation   \n",
      "2       PRR12         19        50100969      50100969      Missense_Mutation   \n",
      "3         TNR          1       175372529     175372529                 Silent   \n",
      "4        CPA4          7       129944344     129944344                 Silent   \n",
      "\n",
      "  Variant_Type Reference_Allele Tumor_Seq_Allele1 Tumor_Seq_Allele2  \\\n",
      "0          SNP                G                 G                 C   \n",
      "1          SNP                G                 G                 A   \n",
      "2          SNP                C                 C                 G   \n",
      "3          SNP                G                 G                 A   \n",
      "4          SNP                C                 C                 G   \n",
      "\n",
      "  Tumor_Sample_Barcode Matched_Norm_Sample_Barcode Protein_Change  \\\n",
      "0      Patient-0-Tumor            Patient-0-Normal        p.Q612E   \n",
      "1      Patient-0-Tumor            Patient-0-Normal        p.A676T   \n",
      "2      Patient-0-Tumor            Patient-0-Normal       p.S1126C   \n",
      "3      Patient-0-Tumor            Patient-0-Normal        p.S241S   \n",
      "4      Patient-0-Tumor            Patient-0-Normal        p.A137A   \n",
      "\n",
      "   t_alt_count  t_ref_count  \n",
      "0            8           31  \n",
      "1            4           87  \n",
      "2            5           25  \n",
      "3           30          155  \n",
      "4           12          100  \n"
     ]
    }
   ],
   "source": [
    "print(df.head())"
   ]
  },
  {
   "cell_type": "code",
   "execution_count": 10,
   "metadata": {},
   "outputs": [
    {
     "name": "stdout",
     "output_type": "stream",
     "text": [
      "Index(['Hugo_Symbol', 'Chromosome', 'Start_position', 'End_position',\n",
      "       'Variant_Classification', 'Variant_Type', 'Reference_Allele',\n",
      "       'Tumor_Seq_Allele1', 'Tumor_Seq_Allele2', 'Tumor_Sample_Barcode',\n",
      "       'Matched_Norm_Sample_Barcode', 'Protein_Change', 't_alt_count',\n",
      "       't_ref_count'],\n",
      "      dtype='object')\n"
     ]
    }
   ],
   "source": [
    "print(df.columns)"
   ]
  },
  {
   "cell_type": "code",
   "execution_count": null,
   "metadata": {},
   "outputs": [],
   "source": []
  }
 ],
 "metadata": {
  "kernelspec": {
   "display_name": "Python 3.8.5 ('base')",
   "language": "python",
   "name": "python3"
  },
  "language_info": {
   "codemirror_mode": {
    "name": "ipython",
    "version": 3
   },
   "file_extension": ".py",
   "mimetype": "text/x-python",
   "name": "python",
   "nbconvert_exporter": "python",
   "pygments_lexer": "ipython3",
   "version": "3.8.5"
  },
  "orig_nbformat": 4,
  "vscode": {
   "interpreter": {
    "hash": "2a8770c472293afed95e339a9700fa30752e899dfa15f80b3a28dc1457ff229a"
   }
  }
 },
 "nbformat": 4,
 "nbformat_minor": 2
}
